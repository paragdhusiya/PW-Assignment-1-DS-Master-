{
 "cells": [
  {
   "cell_type": "markdown",
   "id": "6789535a-ea1c-48f0-9608-64566456a8ec",
   "metadata": {},
   "source": [
    "#Question - 1"
   ]
  },
  {
   "cell_type": "code",
   "execution_count": 3,
   "id": "6922fb66-bb97-4f2e-a82b-a64d0ea5c6b0",
   "metadata": {},
   "outputs": [
    {
     "name": "stdout",
     "output_type": "stream",
     "text": [
      "string [89, 97, 84] 4.48 (41, 43, 28)\n"
     ]
    }
   ],
   "source": [
    "var1 = \"string\"\n",
    "var2 = [89 , 97 , 84]\n",
    "var3 = 4.48\n",
    "var4 = (41 , 43 , 28)\n",
    "print(var1 , var2 , var3 , var4)"
   ]
  },
  {
   "cell_type": "markdown",
   "id": "e50d593d-86de-4f19-8d30-35198cb29285",
   "metadata": {},
   "source": [
    "#Question - 2"
   ]
  },
  {
   "cell_type": "code",
   "execution_count": 4,
   "id": "5b9f86a7-472d-40d8-9eda-e0eafa0a825e",
   "metadata": {},
   "outputs": [
    {
     "name": "stdout",
     "output_type": "stream",
     "text": [
      "<class 'str'>\n",
      "<class 'str'>\n",
      "<class 'list'>\n",
      "<class 'float'>\n"
     ]
    }
   ],
   "source": [
    "var1 = ''\n",
    "var2 = '[DS , ML , Python]'\n",
    "var3 = ['DS' , 'ML' , 'Python']\n",
    "var4 = 1.\n",
    "print(type(var1))\n",
    "print(type(var2))\n",
    "print(type(var3))\n",
    "print(type(var4))"
   ]
  },
  {
   "cell_type": "markdown",
   "id": "1836aea8-d248-4211-afb8-59a837df76fb",
   "metadata": {},
   "source": [
    "#Question - 3"
   ]
  },
  {
   "cell_type": "code",
   "execution_count": 5,
   "id": "e30469af-6fc9-4d7d-b504-241fd75ba0ae",
   "metadata": {},
   "outputs": [
    {
     "name": "stdout",
     "output_type": "stream",
     "text": [
      "4.0\n",
      "0\n",
      "2\n",
      "25\n"
     ]
    }
   ],
   "source": [
    "#Divison - /\n",
    "print(8/2)\n",
    "#Modulo - %\n",
    "print(9%3)\n",
    "#floor divison - //\n",
    "print(5//2)\n",
    "#Power - **\n",
    "print(5**2)"
   ]
  },
  {
   "cell_type": "markdown",
   "id": "3087d138-818d-4650-9b53-95ad0bf7c4f6",
   "metadata": {},
   "source": [
    "#Question - 4"
   ]
  },
  {
   "cell_type": "code",
   "execution_count": 7,
   "id": "70970027-8673-4011-9827-c5db6c970829",
   "metadata": {},
   "outputs": [
    {
     "name": "stdout",
     "output_type": "stream",
     "text": [
      "1 => <class 'int'>\n",
      "hello => <class 'str'>\n",
      "True => <class 'bool'>\n",
      "3.14 => <class 'float'>\n",
      "[1, 2, 3] => <class 'list'>\n",
      "{'name': 'John Doe'} => <class 'dict'>\n",
      "(1, 2, 3) => <class 'tuple'>\n",
      "world => <class 'str'>\n",
      "None => <class 'NoneType'>\n",
      "42 => <class 'int'>\n"
     ]
    }
   ],
   "source": [
    "list_of_data = [1, \"hello\", True, 3.14, [1, 2, 3], {\"name\": \"John Doe\"}, (1, 2, 3), \"world\", None, 42]\n",
    "for item in list_of_data:\n",
    "    print(item,'=>' ,  type(item))"
   ]
  },
  {
   "cell_type": "markdown",
   "id": "561bbfa3-c76e-4bd2-a9e8-89e6e5fd276e",
   "metadata": {},
   "source": [
    "#Question - 5"
   ]
  },
  {
   "cell_type": "code",
   "execution_count": 8,
   "id": "305d751c-152b-4b1e-8274-d5c785d1239e",
   "metadata": {},
   "outputs": [
    {
     "name": "stdin",
     "output_type": "stream",
     "text": [
      "Enter the first number:  8\n",
      "Enter the second number:  9\n"
     ]
    },
    {
     "name": "stdout",
     "output_type": "stream",
     "text": [
      "8 is not divisible by 9.\n"
     ]
    }
   ],
   "source": [
    "def is_divisible(a, b):\n",
    "\n",
    "    count = 0\n",
    "    while a % b == 0:\n",
    "        count += 1\n",
    "        a //= b\n",
    "    return count > 0\n",
    "\n",
    "\n",
    "def main():\n",
    "\n",
    "    a = int(input(\"Enter the first number: \"))\n",
    "    b = int(input(\"Enter the second number: \"))\n",
    "\n",
    "    if is_divisible(a, b):\n",
    "        print(f\"{a} is divisible by {b} {count} times.\")\n",
    "    else:\n",
    "        print(f\"{a} is not divisible by {b}.\")\n",
    "\n",
    "\n",
    "if __name__ == \"__main__\":\n",
    "    main()\n"
   ]
  },
  {
   "cell_type": "markdown",
   "id": "cb6f3007-434e-49ab-b8de-8264c3b8e655",
   "metadata": {},
   "source": [
    "#Question - 6"
   ]
  },
  {
   "cell_type": "code",
   "execution_count": 15,
   "id": "4fa84e58-807c-484c-b4c4-63f422448439",
   "metadata": {},
   "outputs": [
    {
     "name": "stdout",
     "output_type": "stream",
     "text": [
      "1 is not divisible by 3.\n",
      "2 is not divisible by 3.\n",
      "3 is divisible by 3.\n",
      "4 is not divisible by 3.\n",
      "5 is not divisible by 3.\n",
      "6 is divisible by 3.\n",
      "7 is not divisible by 3.\n",
      "8 is not divisible by 3.\n",
      "9 is divisible by 3.\n",
      "10 is not divisible by 3.\n",
      "11 is not divisible by 3.\n",
      "12 is divisible by 3.\n",
      "13 is not divisible by 3.\n",
      "14 is not divisible by 3.\n",
      "15 is divisible by 3.\n",
      "16 is not divisible by 3.\n",
      "17 is not divisible by 3.\n",
      "18 is divisible by 3.\n",
      "19 is not divisible by 3.\n",
      "20 is not divisible by 3.\n",
      "21 is divisible by 3.\n",
      "22 is not divisible by 3.\n",
      "23 is not divisible by 3.\n",
      "24 is divisible by 3.\n",
      "25 is not divisible by 3.\n"
     ]
    }
   ],
   "source": [
    "def divisible_by_3(num):\n",
    "\n",
    "    return num % 3 == 0\n",
    "\n",
    "\n",
    "def main():\n",
    "\n",
    "    num_list = [i for i in range(1, 26)]\n",
    "\n",
    "    for num in num_list:\n",
    "        if divisible_by_3(num):\n",
    "            print(f\"{num} is divisible by 3.\")\n",
    "        else:\n",
    "            print(f\"{num} is not divisible by 3.\")\n",
    "\n",
    "\n",
    "if __name__ == \"__main__\":\n",
    "    main()\n"
   ]
  },
  {
   "cell_type": "markdown",
   "id": "407a9ac6-b5a8-452d-9075-6f6b055572b9",
   "metadata": {},
   "source": [
    "#Question - 7"
   ]
  },
  {
   "cell_type": "code",
   "execution_count": 16,
   "id": "44e463c0-f9dc-4491-85b7-609cddfbc79e",
   "metadata": {},
   "outputs": [
    {
     "ename": "TypeError",
     "evalue": "'str' object does not support item assignment",
     "output_type": "error",
     "traceback": [
      "\u001b[1;31m---------------------------------------------------------------------------\u001b[0m",
      "\u001b[1;31mTypeError\u001b[0m                                 Traceback (most recent call last)",
      "Cell \u001b[1;32mIn[16], line 8\u001b[0m\n\u001b[0;32m      5\u001b[0m \u001b[38;5;28mlist\u001b[39m[\u001b[38;5;241m0\u001b[39m] \u001b[38;5;241m=\u001b[39m \u001b[38;5;241m10\u001b[39m\n\u001b[0;32m      7\u001b[0m \u001b[38;5;66;03m# Try to change the first character in the string\u001b[39;00m\n\u001b[1;32m----> 8\u001b[0m \u001b[43mstring\u001b[49m\u001b[43m[\u001b[49m\u001b[38;5;241;43m0\u001b[39;49m\u001b[43m]\u001b[49m \u001b[38;5;241m=\u001b[39m \u001b[38;5;124m\"\u001b[39m\u001b[38;5;124mH\u001b[39m\u001b[38;5;124m\"\u001b[39m\n\u001b[0;32m     10\u001b[0m \u001b[38;5;66;03m# Print the list and the string\u001b[39;00m\n\u001b[0;32m     11\u001b[0m \u001b[38;5;28mprint\u001b[39m(\u001b[38;5;28mlist\u001b[39m)\n",
      "\u001b[1;31mTypeError\u001b[0m: 'str' object does not support item assignment"
     ]
    }
   ],
   "source": [
    "list = [1, 2, 3]\n",
    "string = \"Hello, world!\"\n",
    "\n",
    "# Try to change the value of the first item in the list\n",
    "list[0] = 10\n",
    "\n",
    "# Try to change the first character in the string\n",
    "string[0] = \"H\"\n",
    "\n",
    "# Print the list and the string\n",
    "print(list)\n",
    "print(string)"
   ]
  },
  {
   "cell_type": "code",
   "execution_count": 17,
   "id": "fa158ef0-9613-435f-805e-1ae23bb0bd64",
   "metadata": {},
   "outputs": [
    {
     "name": "stdout",
     "output_type": "stream",
     "text": [
      "[10, 2, 3]\n",
      "Hello, world!\n"
     ]
    }
   ],
   "source": [
    "list = [1, 2, 3]\n",
    "string = \"Hello, world!\"\n",
    "\n",
    "# Try to change the value of the first item in the list\n",
    "list[0] = 10\n",
    "\n",
    "# Try to change the first character in the string\n",
    "# string[0] = \"H\"\n",
    "\n",
    "# Print the list and the string\n",
    "print(list)\n",
    "print(string)"
   ]
  },
  {
   "cell_type": "code",
   "execution_count": null,
   "id": "277e949a-d9c4-40d1-a0ac-11fb55ef20d8",
   "metadata": {},
   "outputs": [],
   "source": []
  },
  {
   "cell_type": "code",
   "execution_count": null,
   "id": "15b16b03-4090-41ca-991c-620599c66934",
   "metadata": {},
   "outputs": [],
   "source": []
  }
 ],
 "metadata": {
  "kernelspec": {
   "display_name": "Python 3 (ipykernel)",
   "language": "python",
   "name": "python3"
  },
  "language_info": {
   "codemirror_mode": {
    "name": "ipython",
    "version": 3
   },
   "file_extension": ".py",
   "mimetype": "text/x-python",
   "name": "python",
   "nbconvert_exporter": "python",
   "pygments_lexer": "ipython3",
   "version": "3.11.3"
  }
 },
 "nbformat": 4,
 "nbformat_minor": 5
}
